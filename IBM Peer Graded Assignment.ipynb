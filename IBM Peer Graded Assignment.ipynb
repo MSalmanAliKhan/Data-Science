{
 "cells": [
  {
   "cell_type": "markdown",
   "id": "83b3bfad",
   "metadata": {},
   "source": [
    "# My Jupiter Notebook on IBM Watson Studio"
   ]
  },
  {
   "cell_type": "markdown",
   "id": "3eb26fc0",
   "metadata": {},
   "source": [
    "Muhammad Salman Ali Khan - Junior Data Analyst"
   ]
  },
  {
   "cell_type": "markdown",
   "id": "e61317b1",
   "metadata": {},
   "source": [
    "_I am interested in data science as it is one of the most in-demand fields today. I have always been good with numbers and data in general so I believe I will find alot of sucess in this field._"
   ]
  },
  {
   "cell_type": "markdown",
   "id": "4dcad79c",
   "metadata": {},
   "source": [
    "### My Code will take two numbers as input and add them"
   ]
  },
  {
   "cell_type": "code",
   "execution_count": 11,
   "id": "80e18a9a",
   "metadata": {},
   "outputs": [
    {
     "name": "stdout",
     "output_type": "stream",
     "text": [
      "number1 3\n",
      "number2 4\n",
      "The sum is 7\n"
     ]
    }
   ],
   "source": [
    "A=int(input(\"number1 \"))\n",
    "B=int(input(\"number2 \"))\n",
    "print(f\"The sum is {A+B}\")"
   ]
  },
  {
   "cell_type": "markdown",
   "id": "dcd0c56d",
   "metadata": {},
   "source": [
    "Bulleted List:\n",
    "- Apple\n",
    "- Oranges\n",
    "- Bananas\n",
    "***\n",
    "Numbered Lists:\n",
    "1. King\n",
    "2. Queen\n",
    "3. Jack\n",
    "\n",
    "~This is striked text~\n"
   ]
  },
  {
   "cell_type": "code",
   "execution_count": null,
   "id": "f9660537",
   "metadata": {},
   "outputs": [],
   "source": []
  }
 ],
 "metadata": {
  "kernelspec": {
   "display_name": "Python 3 (ipykernel)",
   "language": "python",
   "name": "python3"
  },
  "language_info": {
   "codemirror_mode": {
    "name": "ipython",
    "version": 3
   },
   "file_extension": ".py",
   "mimetype": "text/x-python",
   "name": "python",
   "nbconvert_exporter": "python",
   "pygments_lexer": "ipython3",
   "version": "3.9.12"
  }
 },
 "nbformat": 4,
 "nbformat_minor": 5
}
